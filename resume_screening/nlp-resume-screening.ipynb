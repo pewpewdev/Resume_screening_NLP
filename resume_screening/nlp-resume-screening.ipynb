{
 "cells": [
  {
   "cell_type": "markdown",
   "id": "83486596",
   "metadata": {
    "id": "7JSDCvU2PhwE",
    "papermill": {
     "duration": 0.011567,
     "end_time": "2024-03-30T11:14:11.465990",
     "exception": false,
     "start_time": "2024-03-30T11:14:11.454423",
     "status": "completed"
    },
    "tags": []
   },
   "source": [
    "#Download Dataset from Google Drive"
   ]
  },
  {
   "cell_type": "markdown",
   "id": "4fa51524",
   "metadata": {
    "id": "nRzQ6aZ7SVPo",
    "papermill": {
     "duration": 0.010918,
     "end_time": "2024-03-30T11:14:11.488451",
     "exception": false,
     "start_time": "2024-03-30T11:14:11.477533",
     "status": "completed"
    },
    "tags": []
   },
   "source": [
    "# Library import"
   ]
  },
  {
   "cell_type": "code",
   "execution_count": 1,
   "id": "b67b8e25",
   "metadata": {
    "execution": {
     "iopub.execute_input": "2024-03-30T11:14:11.513147Z",
     "iopub.status.busy": "2024-03-30T11:14:11.512476Z",
     "iopub.status.idle": "2024-03-30T11:14:11.521791Z",
     "shell.execute_reply": "2024-03-30T11:14:11.521096Z"
    },
    "id": "pBcBm5ZuF6_b",
    "papermill": {
     "duration": 0.024188,
     "end_time": "2024-03-30T11:14:11.523742",
     "exception": false,
     "start_time": "2024-03-30T11:14:11.499554",
     "status": "completed"
    },
    "tags": []
   },
   "outputs": [],
   "source": [
    "\n",
    "import os\n",
    "import zipfile"
   ]
  },
  {
   "cell_type": "code",
   "execution_count": 2,
   "id": "58f8bf78",
   "metadata": {
    "execution": {
     "iopub.execute_input": "2024-03-30T11:14:11.548990Z",
     "iopub.status.busy": "2024-03-30T11:14:11.548350Z",
     "iopub.status.idle": "2024-03-30T11:14:13.489888Z",
     "shell.execute_reply": "2024-03-30T11:14:13.488996Z"
    },
    "id": "9Agz3jLML9Wc",
    "papermill": {
     "duration": 1.95721,
     "end_time": "2024-03-30T11:14:13.492258",
     "exception": false,
     "start_time": "2024-03-30T11:14:11.535048",
     "status": "completed"
    },
    "tags": []
   },
   "outputs": [],
   "source": [
    "import pandas as pd\n",
    "import numpy as np\n",
    "import matplotlib.pyplot as plt\n",
    "import seaborn as sns"
   ]
  },
  {
   "cell_type": "markdown",
   "id": "b5f1f73d",
   "metadata": {
    "id": "e4sYLTXuCeXO",
    "papermill": {
     "duration": 0.010867,
     "end_time": "2024-03-30T11:14:13.514568",
     "exception": false,
     "start_time": "2024-03-30T11:14:13.503701",
     "status": "completed"
    },
    "tags": []
   },
   "source": [
    "# Dataset URL"
   ]
  },
  {
   "cell_type": "markdown",
   "id": "a4ed3767",
   "metadata": {
    "id": "-Td6ojPuSfXs",
    "papermill": {
     "duration": 0.010981,
     "end_time": "2024-03-30T11:14:13.536655",
     "exception": false,
     "start_time": "2024-03-30T11:14:13.525674",
     "status": "completed"
    },
    "tags": []
   },
   "source": [
    "# Read Dataset"
   ]
  },
  {
   "cell_type": "code",
   "execution_count": 3,
   "id": "ee7fd7e9",
   "metadata": {
    "execution": {
     "iopub.execute_input": "2024-03-30T11:14:13.560531Z",
     "iopub.status.busy": "2024-03-30T11:14:13.560048Z",
     "iopub.status.idle": "2024-03-30T11:14:13.658603Z",
     "shell.execute_reply": "2024-03-30T11:14:13.657837Z"
    },
    "id": "AAhlstlsLlAA",
    "papermill": {
     "duration": 0.113171,
     "end_time": "2024-03-30T11:14:13.660872",
     "exception": false,
     "start_time": "2024-03-30T11:14:13.547701",
     "status": "completed"
    },
    "tags": []
   },
   "outputs": [],
   "source": [
    "df = pd.read_csv(\"/kaggle/input/resume-dataset/UpdatedResumeDataSet.csv\")"
   ]
  },
  {
   "cell_type": "code",
   "execution_count": 4,
   "id": "5d11a5e1",
   "metadata": {
    "execution": {
     "iopub.execute_input": "2024-03-30T11:14:13.687892Z",
     "iopub.status.busy": "2024-03-30T11:14:13.686833Z",
     "iopub.status.idle": "2024-03-30T11:14:13.701167Z",
     "shell.execute_reply": "2024-03-30T11:14:13.700424Z"
    },
    "id": "DhDVk8xoMGN4",
    "outputId": "fa87adbe-1a84-43ac-be55-01f4c8912363",
    "papermill": {
     "duration": 0.029216,
     "end_time": "2024-03-30T11:14:13.703133",
     "exception": false,
     "start_time": "2024-03-30T11:14:13.673917",
     "status": "completed"
    },
    "tags": []
   },
   "outputs": [
    {
     "data": {
      "text/html": [
       "<div>\n",
       "<style scoped>\n",
       "    .dataframe tbody tr th:only-of-type {\n",
       "        vertical-align: middle;\n",
       "    }\n",
       "\n",
       "    .dataframe tbody tr th {\n",
       "        vertical-align: top;\n",
       "    }\n",
       "\n",
       "    .dataframe thead th {\n",
       "        text-align: right;\n",
       "    }\n",
       "</style>\n",
       "<table border=\"1\" class=\"dataframe\">\n",
       "  <thead>\n",
       "    <tr style=\"text-align: right;\">\n",
       "      <th></th>\n",
       "      <th>Category</th>\n",
       "      <th>Resume</th>\n",
       "    </tr>\n",
       "  </thead>\n",
       "  <tbody>\n",
       "    <tr>\n",
       "      <th>0</th>\n",
       "      <td>Data Science</td>\n",
       "      <td>Skills * Programming Languages: Python (pandas...</td>\n",
       "    </tr>\n",
       "    <tr>\n",
       "      <th>1</th>\n",
       "      <td>Data Science</td>\n",
       "      <td>Education Details \\r\\nMay 2013 to May 2017 B.E...</td>\n",
       "    </tr>\n",
       "    <tr>\n",
       "      <th>2</th>\n",
       "      <td>Data Science</td>\n",
       "      <td>Areas of Interest Deep Learning, Control Syste...</td>\n",
       "    </tr>\n",
       "    <tr>\n",
       "      <th>3</th>\n",
       "      <td>Data Science</td>\n",
       "      <td>Skills â¢ R â¢ Python â¢ SAP HANA â¢ Table...</td>\n",
       "    </tr>\n",
       "    <tr>\n",
       "      <th>4</th>\n",
       "      <td>Data Science</td>\n",
       "      <td>Education Details \\r\\n MCA   YMCAUST,  Faridab...</td>\n",
       "    </tr>\n",
       "  </tbody>\n",
       "</table>\n",
       "</div>"
      ],
      "text/plain": [
       "       Category                                             Resume\n",
       "0  Data Science  Skills * Programming Languages: Python (pandas...\n",
       "1  Data Science  Education Details \\r\\nMay 2013 to May 2017 B.E...\n",
       "2  Data Science  Areas of Interest Deep Learning, Control Syste...\n",
       "3  Data Science  Skills â¢ R â¢ Python â¢ SAP HANA â¢ Table...\n",
       "4  Data Science  Education Details \\r\\n MCA   YMCAUST,  Faridab..."
      ]
     },
     "execution_count": 4,
     "metadata": {},
     "output_type": "execute_result"
    }
   ],
   "source": [
    "df.head()"
   ]
  },
  {
   "cell_type": "code",
   "execution_count": 5,
   "id": "9f176274",
   "metadata": {
    "execution": {
     "iopub.execute_input": "2024-03-30T11:14:13.728576Z",
     "iopub.status.busy": "2024-03-30T11:14:13.727476Z",
     "iopub.status.idle": "2024-03-30T11:14:13.736527Z",
     "shell.execute_reply": "2024-03-30T11:14:13.735827Z"
    },
    "id": "dZ_rg4k5MQkh",
    "outputId": "5b2fa62d-18a1-440f-f969-e5a0e3733c9a",
    "papermill": {
     "duration": 0.023663,
     "end_time": "2024-03-30T11:14:13.738412",
     "exception": false,
     "start_time": "2024-03-30T11:14:13.714749",
     "status": "completed"
    },
    "tags": []
   },
   "outputs": [
    {
     "data": {
      "text/html": [
       "<div>\n",
       "<style scoped>\n",
       "    .dataframe tbody tr th:only-of-type {\n",
       "        vertical-align: middle;\n",
       "    }\n",
       "\n",
       "    .dataframe tbody tr th {\n",
       "        vertical-align: top;\n",
       "    }\n",
       "\n",
       "    .dataframe thead th {\n",
       "        text-align: right;\n",
       "    }\n",
       "</style>\n",
       "<table border=\"1\" class=\"dataframe\">\n",
       "  <thead>\n",
       "    <tr style=\"text-align: right;\">\n",
       "      <th></th>\n",
       "      <th>Category</th>\n",
       "      <th>Resume</th>\n",
       "    </tr>\n",
       "  </thead>\n",
       "  <tbody>\n",
       "    <tr>\n",
       "      <th>957</th>\n",
       "      <td>Testing</td>\n",
       "      <td>Computer Skills: â¢ Proficient in MS office (...</td>\n",
       "    </tr>\n",
       "    <tr>\n",
       "      <th>958</th>\n",
       "      <td>Testing</td>\n",
       "      <td>â Willingness to accept the challenges. â ...</td>\n",
       "    </tr>\n",
       "    <tr>\n",
       "      <th>959</th>\n",
       "      <td>Testing</td>\n",
       "      <td>PERSONAL SKILLS â¢ Quick learner, â¢ Eagerne...</td>\n",
       "    </tr>\n",
       "    <tr>\n",
       "      <th>960</th>\n",
       "      <td>Testing</td>\n",
       "      <td>COMPUTER SKILLS &amp; SOFTWARE KNOWLEDGE MS-Power ...</td>\n",
       "    </tr>\n",
       "    <tr>\n",
       "      <th>961</th>\n",
       "      <td>Testing</td>\n",
       "      <td>Skill Set OS Windows XP/7/8/8.1/10 Database MY...</td>\n",
       "    </tr>\n",
       "  </tbody>\n",
       "</table>\n",
       "</div>"
      ],
      "text/plain": [
       "    Category                                             Resume\n",
       "957  Testing  Computer Skills: â¢ Proficient in MS office (...\n",
       "958  Testing  â Willingness to accept the challenges. â ...\n",
       "959  Testing  PERSONAL SKILLS â¢ Quick learner, â¢ Eagerne...\n",
       "960  Testing  COMPUTER SKILLS & SOFTWARE KNOWLEDGE MS-Power ...\n",
       "961  Testing  Skill Set OS Windows XP/7/8/8.1/10 Database MY..."
      ]
     },
     "execution_count": 5,
     "metadata": {},
     "output_type": "execute_result"
    }
   ],
   "source": [
    "df.tail()"
   ]
  },
  {
   "cell_type": "code",
   "execution_count": 6,
   "id": "62c1cc8d",
   "metadata": {
    "execution": {
     "iopub.execute_input": "2024-03-30T11:14:13.764255Z",
     "iopub.status.busy": "2024-03-30T11:14:13.763566Z",
     "iopub.status.idle": "2024-03-30T11:14:13.768775Z",
     "shell.execute_reply": "2024-03-30T11:14:13.768089Z"
    },
    "id": "9T_ql8TTNA9Q",
    "outputId": "57fddacb-2476-44f1-c380-d273ece7a697",
    "papermill": {
     "duration": 0.020429,
     "end_time": "2024-03-30T11:14:13.770616",
     "exception": false,
     "start_time": "2024-03-30T11:14:13.750187",
     "status": "completed"
    },
    "tags": []
   },
   "outputs": [
    {
     "data": {
      "text/plain": [
       "(962, 2)"
      ]
     },
     "execution_count": 6,
     "metadata": {},
     "output_type": "execute_result"
    }
   ],
   "source": [
    "df.shape"
   ]
  },
  {
   "cell_type": "code",
   "execution_count": 7,
   "id": "5c7710f5",
   "metadata": {
    "execution": {
     "iopub.execute_input": "2024-03-30T11:14:13.795906Z",
     "iopub.status.busy": "2024-03-30T11:14:13.795301Z",
     "iopub.status.idle": "2024-03-30T11:14:13.807787Z",
     "shell.execute_reply": "2024-03-30T11:14:13.806800Z"
    },
    "id": "7TCg2CeENGX0",
    "outputId": "92b48082-9421-49c5-ef30-49bd6d80736c",
    "papermill": {
     "duration": 0.027647,
     "end_time": "2024-03-30T11:14:13.810013",
     "exception": false,
     "start_time": "2024-03-30T11:14:13.782366",
     "status": "completed"
    },
    "tags": []
   },
   "outputs": [
    {
     "data": {
      "text/plain": [
       "Category\n",
       "Java Developer               84\n",
       "Testing                      70\n",
       "DevOps Engineer              55\n",
       "Python Developer             48\n",
       "Web Designing                45\n",
       "HR                           44\n",
       "Hadoop                       42\n",
       "Blockchain                   40\n",
       "ETL Developer                40\n",
       "Operations Manager           40\n",
       "Data Science                 40\n",
       "Sales                        40\n",
       "Mechanical Engineer          40\n",
       "Arts                         36\n",
       "Database                     33\n",
       "Electrical Engineering       30\n",
       "Health and fitness           30\n",
       "PMO                          30\n",
       "Business Analyst             28\n",
       "DotNet Developer             28\n",
       "Automation Testing           26\n",
       "Network Security Engineer    25\n",
       "SAP Developer                24\n",
       "Civil Engineer               24\n",
       "Advocate                     20\n",
       "Name: count, dtype: int64"
      ]
     },
     "execution_count": 7,
     "metadata": {},
     "output_type": "execute_result"
    }
   ],
   "source": [
    "df['Category'].value_counts()"
   ]
  },
  {
   "cell_type": "markdown",
   "id": "13a1d2a1",
   "metadata": {
    "id": "ymI_kTlvCsuD",
    "papermill": {
     "duration": 0.011583,
     "end_time": "2024-03-30T11:14:13.833478",
     "exception": false,
     "start_time": "2024-03-30T11:14:13.821895",
     "status": "completed"
    },
    "tags": []
   },
   "source": [
    "# TARGET VALUES"
   ]
  },
  {
   "cell_type": "code",
   "execution_count": 8,
   "id": "cbde6f45",
   "metadata": {
    "execution": {
     "iopub.execute_input": "2024-03-30T11:14:13.859744Z",
     "iopub.status.busy": "2024-03-30T11:14:13.859112Z",
     "iopub.status.idle": "2024-03-30T11:14:14.519222Z",
     "shell.execute_reply": "2024-03-30T11:14:14.518394Z"
    },
    "id": "RIYGbrs9No44",
    "outputId": "08b5fb9c-e784-4631-8a0a-d9743be32c84",
    "papermill": {
     "duration": 0.676208,
     "end_time": "2024-03-30T11:14:14.521659",
     "exception": false,
     "start_time": "2024-03-30T11:14:13.845451",
     "status": "completed"
    },
    "tags": []
   },
   "outputs": [
    {
     "data": {
      "image/png": "[encoded data removed]",
      "text/plain": [
       "<Figure size 640x480 with 1 Axes>"
      ]
     },
     "metadata": {},
     "output_type": "display_data"
    }
   ],
   "source": [
    "# Set the style\n",
    "sns.set_style(\"whitegrid\")\n",
    "\n",
    "# Set the color palette\n",
    "sns.set_palette(\"pastel\")\n",
    "\n",
    "# Plot the countplot\n",
    "sns.countplot(data=df, x='Category')\n",
    "\n",
    "# Set labels and title\n",
    "plt.xlabel('Category', fontsize=12)\n",
    "plt.ylabel('Count', fontsize=12)\n",
    "plt.title('Distribution of Categories', fontsize=14)\n",
    "\n",
    "# Rotate x-axis labels for better readability (if needed)\n",
    "plt.xticks(rotation=90)\n",
    "\n",
    "# Show the plot\n",
    "plt.show()\n"
   ]
  },
  {
   "cell_type": "code",
   "execution_count": 9,
   "id": "97936569",
   "metadata": {
    "execution": {
     "iopub.execute_input": "2024-03-30T11:14:14.550080Z",
     "iopub.status.busy": "2024-03-30T11:14:14.549188Z",
     "iopub.status.idle": "2024-03-30T11:14:14.995963Z",
     "shell.execute_reply": "2024-03-30T11:14:14.994819Z"
    },
    "id": "HdTOwBDtOUcs",
    "outputId": "59cb3ae3-a816-4b83-ca7c-969355d9517c",
    "papermill": {
     "duration": 0.464759,
     "end_time": "2024-03-30T11:14:14.999666",
     "exception": false,
     "start_time": "2024-03-30T11:14:14.534907",
     "status": "completed"
    },
    "tags": []
   },
   "outputs": [
    {
     "data": {
      "image/png": "[encoded data removed]",
      "text/plain": [
       "<Figure size 1000x1000 with 1 Axes>"
      ]
     },
     "metadata": {},
     "output_type": "display_data"
    }
   ],
   "source": [
    "\n",
    "# Get the count of each category\n",
    "category_counts = df['Category'].value_counts()\n",
    "\n",
    "# Plot the pie chart\n",
    "plt.figure(figsize=(10, 10))\n",
    "plt.pie(category_counts, labels=category_counts.index, autopct='%1.1f%%', startangle=140)\n",
    "\n",
    "# Draw circle to make it a donut chart\n",
    "centre_circle = plt.Circle((0,0),0.70,fc='white')\n",
    "fig = plt.gcf()\n",
    "fig.gca().add_artist(centre_circle)\n",
    "\n",
    "# Equal aspect ratio ensures that pie is drawn as a circle\n",
    "plt.axis('equal')\n",
    "\n",
    "# Add a title\n",
    "plt.title('Distribution of Categories')\n",
    "\n",
    "# Display the pie chart\n",
    "plt.show()\n"
   ]
  },
  {
   "cell_type": "markdown",
   "id": "9690625d",
   "metadata": {
    "id": "o-gmbAkdStOF",
    "papermill": {
     "duration": 0.014942,
     "end_time": "2024-03-30T11:14:15.030338",
     "exception": false,
     "start_time": "2024-03-30T11:14:15.015396",
     "status": "completed"
    },
    "tags": []
   },
   "source": [
    "# Exploring Resume"
   ]
  },
  {
   "cell_type": "code",
   "execution_count": 10,
   "id": "ab859db5",
   "metadata": {
    "execution": {
     "iopub.execute_input": "2024-03-30T11:14:15.062017Z",
     "iopub.status.busy": "2024-03-30T11:14:15.061641Z",
     "iopub.status.idle": "2024-03-30T11:14:15.067869Z",
     "shell.execute_reply": "2024-03-30T11:14:15.066893Z"
    },
    "id": "XfJPKkaWSsPP",
    "outputId": "d1b65856-e0fa-4d1b-9352-7e06daa77dde",
    "papermill": {
     "duration": 0.024549,
     "end_time": "2024-03-30T11:14:15.069981",
     "exception": false,
     "start_time": "2024-03-30T11:14:15.045432",
     "status": "completed"
    },
    "tags": []
   },
   "outputs": [
    {
     "data": {
      "text/plain": [
       "'Data Science'"
      ]
     },
     "execution_count": 10,
     "metadata": {},
     "output_type": "execute_result"
    }
   ],
   "source": [
    "df['Category'][0]"
   ]
  },
  {
   "cell_type": "code",
   "execution_count": 11,
   "id": "602ff84f",
   "metadata": {
    "execution": {
     "iopub.execute_input": "2024-03-30T11:14:15.103509Z",
     "iopub.status.busy": "2024-03-30T11:14:15.102521Z",
     "iopub.status.idle": "2024-03-30T11:14:15.108854Z",
     "shell.execute_reply": "2024-03-30T11:14:15.108153Z"
    },
    "id": "JQvD2Yc2S0pt",
    "outputId": "8d910129-4d94-405c-cd1d-aafc0f2dc91d",
    "papermill": {
     "duration": 0.024864,
     "end_time": "2024-03-30T11:14:15.110831",
     "exception": false,
     "start_time": "2024-03-30T11:14:15.085967",
     "status": "completed"
    },
    "tags": []
   },
   "outputs": [
    {
     "data": {
      "text/plain": [
       "'Skills * Programming Languages: Python (pandas, numpy, scipy, scikit-learn, matplotlib), Sql, Java, JavaScript/JQuery. * Machine learning: Regression, SVM, NaÃ¯ve Bayes, KNN, Random Forest, Decision Trees, Boosting techniques, Cluster Analysis, Word Embedding, Sentiment Analysis, Natural Language processing, Dimensionality reduction, Topic Modelling (LDA, NMF), PCA & Neural Nets. * Database Visualizations: Mysql, SqlServer, Cassandra, Hbase, ElasticSearch D3.js, DC.js, Plotly, kibana, matplotlib, ggplot, Tableau. * Others: Regular Expression, HTML, CSS, Angular 6, Logstash, Kafka, Python Flask, Git, Docker, computer vision - Open CV and understanding of Deep learning.Education Details \\r\\n\\r\\nData Science Assurance Associate \\r\\n\\r\\nData Science Assurance Associate - Ernst & Young LLP\\r\\nSkill Details \\r\\nJAVASCRIPT- Exprience - 24 months\\r\\njQuery- Exprience - 24 months\\r\\nPython- Exprience - 24 monthsCompany Details \\r\\ncompany - Ernst & Young LLP\\r\\ndescription - Fraud Investigations and Dispute Services   Assurance\\r\\nTECHNOLOGY ASSISTED REVIEW\\r\\nTAR (Technology Assisted Review) assists in accelerating the review process and run analytics and generate reports.\\r\\n* Core member of a team helped in developing automated review platform tool from scratch for assisting E discovery domain, this tool implements predictive coding and topic modelling by automating reviews, resulting in reduced labor costs and time spent during the lawyers review.\\r\\n* Understand the end to end flow of the solution, doing research and development for classification models, predictive analysis and mining of the information present in text data. Worked on analyzing the outputs and precision monitoring for the entire tool.\\r\\n* TAR assists in predictive coding, topic modelling from the evidence by following EY standards. Developed the classifier models in order to identify \"red flags\" and fraud-related issues.\\r\\n\\r\\nTools & Technologies: Python, scikit-learn, tfidf, word2vec, doc2vec, cosine similarity, NaÃ¯ve Bayes, LDA, NMF for topic modelling, Vader and text blob for sentiment analysis. Matplot lib, Tableau dashboard for reporting.\\r\\n\\r\\nMULTIPLE DATA SCIENCE AND ANALYTIC PROJECTS (USA CLIENTS)\\r\\nTEXT ANALYTICS - MOTOR VEHICLE CUSTOMER REVIEW DATA * Received customer feedback survey data for past one year. Performed sentiment (Positive, Negative & Neutral) and time series analysis on customer comments across all 4 categories.\\r\\n* Created heat map of terms by survey category based on frequency of words * Extracted Positive and Negative words across all the Survey categories and plotted Word cloud.\\r\\n* Created customized tableau dashboards for effective reporting and visualizations.\\r\\nCHATBOT * Developed a user friendly chatbot for one of our Products which handle simple questions about hours of operation, reservation options and so on.\\r\\n* This chat bot serves entire product related questions. Giving overview of tool via QA platform and also give recommendation responses so that user question to build chain of relevant answer.\\r\\n* This too has intelligence to build the pipeline of questions as per user requirement and asks the relevant /recommended questions.\\r\\n\\r\\nTools & Technologies: Python, Natural language processing, NLTK, spacy, topic modelling, Sentiment analysis, Word Embedding, scikit-learn, JavaScript/JQuery, SqlServer\\r\\n\\r\\nINFORMATION GOVERNANCE\\r\\nOrganizations to make informed decisions about all of the information they store. The integrated Information Governance portfolio synthesizes intelligence across unstructured data sources and facilitates action to ensure organizations are best positioned to counter information risk.\\r\\n* Scan data from multiple sources of formats and parse different file formats, extract Meta data information, push results for indexing elastic search and created customized, interactive dashboards using kibana.\\r\\n* Preforming ROT Analysis on the data which give information of data which helps identify content that is either Redundant, Outdated, or Trivial.\\r\\n* Preforming full-text search analysis on elastic search with predefined methods which can tag as (PII) personally identifiable information (social security numbers, addresses, names, etc.) which frequently targeted during cyber-attacks.\\r\\nTools & Technologies: Python, Flask, Elastic Search, Kibana\\r\\n\\r\\nFRAUD ANALYTIC PLATFORM\\r\\nFraud Analytics and investigative platform to review all red flag cases.\\r\\nâ\\x80¢ FAP is a Fraud Analytics and investigative platform with inbuilt case manager and suite of Analytics for various ERP systems.\\r\\n* It can be used by clients to interrogate their Accounting systems for identifying the anomalies which can be indicators of fraud by running advanced analytics\\r\\nTools & Technologies: HTML, JavaScript, SqlServer, JQuery, CSS, Bootstrap, Node.js, D3.js, DC.js'"
      ]
     },
     "execution_count": 11,
     "metadata": {},
     "output_type": "execute_result"
    }
   ],
   "source": [
    "df['Resume'][0]"
   ]
  },
  {
   "cell_type": "code",
   "execution_count": 12,
   "id": "65b9a9bd",
   "metadata": {
    "execution": {
     "iopub.execute_input": "2024-03-30T11:14:15.143660Z",
     "iopub.status.busy": "2024-03-30T11:14:15.143026Z",
     "iopub.status.idle": "2024-03-30T11:14:15.148552Z",
     "shell.execute_reply": "2024-03-30T11:14:15.147616Z"
    },
    "id": "LlYkpy2dTVJB",
    "outputId": "101f7770-25d5-4065-fcd0-330cc9bb1adb",
    "papermill": {
     "duration": 0.024163,
     "end_time": "2024-03-30T11:14:15.150520",
     "exception": false,
     "start_time": "2024-03-30T11:14:15.126357",
     "status": "completed"
    },
    "tags": []
   },
   "outputs": [
    {
     "data": {
      "text/plain": [
       "'Testing'"
      ]
     },
     "execution_count": 12,
     "metadata": {},
     "output_type": "execute_result"
    }
   ],
   "source": [
    "df['Category'][960]"
   ]
  },
  {
   "cell_type": "code",
   "execution_count": 13,
   "id": "50ba2b49",
   "metadata": {
    "execution": {
     "iopub.execute_input": "2024-03-30T11:14:15.183994Z",
     "iopub.status.busy": "2024-03-30T11:14:15.182885Z",
     "iopub.status.idle": "2024-03-30T11:14:15.190094Z",
     "shell.execute_reply": "2024-03-30T11:14:15.189028Z"
    },
    "id": "kEPClsAbTRo2",
    "outputId": "b4d954f9-d4c6-4f67-95f5-166efd4d7bc4",
    "papermill": {
     "duration": 0.026033,
     "end_time": "2024-03-30T11:14:15.192133",
     "exception": false,
     "start_time": "2024-03-30T11:14:15.166100",
     "status": "completed"
    },
    "tags": []
   },
   "outputs": [
    {
     "data": {
      "text/plain": [
       "'COMPUTER SKILLS & SOFTWARE KNOWLEDGE MS-Power Point, MS - Office, C, Protius (PCB Design), Multisim, Micro wind, Matlab, Keil, Latex, Basic I nternet Fundamentals, Software and Hardware Knowledge PROJECT DETAILS Diploma Project: Speed Control of DC Motor Using Heart Beats. Mini Project: Water Gardening System Using Solar Panel. Final Year BE Project: Iris Recognition system.Education Details \\r\\nJanuary 2016 BE EDUCATION Pune, Maharashtra PUNE University\\r\\nJanuary 2010 SSC   Maharashtra Board\\r\\nQuality Engineer \\r\\n\\r\\nQuality Engineer - Matrix Technologies\\r\\nSkill Details \\r\\nMATLAB- Exprience - 6 months\\r\\nPCB- Exprience - 6 months\\r\\nPCB DESIGN- Exprience - 6 monthsCompany Details \\r\\ncompany - Matrix Technologies\\r\\ndescription - \\r\\ncompany - RB Electronics\\r\\ndescription - '"
      ]
     },
     "execution_count": 13,
     "metadata": {},
     "output_type": "execute_result"
    }
   ],
   "source": [
    "df['Resume'][960]"
   ]
  },
  {
   "cell_type": "markdown",
   "id": "7590a7b9",
   "metadata": {
    "id": "VC0DfHnfTgOw",
    "papermill": {
     "duration": 0.015262,
     "end_time": "2024-03-30T11:14:15.223031",
     "exception": false,
     "start_time": "2024-03-30T11:14:15.207769",
     "status": "completed"
    },
    "tags": []
   },
   "source": [
    "# Cleaning Resume\n",
    "\n",
    "1. URL's\n",
    "2. HASHTAGS\n",
    "3. Mentions\n",
    "4. Special Letters\n",
    "5. punctions\n"
   ]
  },
  {
   "cell_type": "code",
   "execution_count": 14,
   "id": "82cc6a78",
   "metadata": {
    "execution": {
     "iopub.execute_input": "2024-03-30T11:14:15.257129Z",
     "iopub.status.busy": "2024-03-30T11:14:15.256361Z",
     "iopub.status.idle": "2024-03-30T11:14:15.260618Z",
     "shell.execute_reply": "2024-03-30T11:14:15.259822Z"
    },
    "id": "XUGmIwaPYghN",
    "papermill": {
     "duration": 0.023324,
     "end_time": "2024-03-30T11:14:15.262718",
     "exception": false,
     "start_time": "2024-03-30T11:14:15.239394",
     "status": "completed"
    },
    "tags": []
   },
   "outputs": [],
   "source": [
    "import re"
   ]
  },
  {
   "cell_type": "code",
   "execution_count": 15,
   "id": "8bde88fd",
   "metadata": {
    "execution": {
     "iopub.execute_input": "2024-03-30T11:14:15.296129Z",
     "iopub.status.busy": "2024-03-30T11:14:15.295376Z",
     "iopub.status.idle": "2024-03-30T11:14:15.302131Z",
     "shell.execute_reply": "2024-03-30T11:14:15.301324Z"
    },
    "id": "WSnjumzHYcGr",
    "papermill": {
     "duration": 0.025879,
     "end_time": "2024-03-30T11:14:15.304305",
     "exception": false,
     "start_time": "2024-03-30T11:14:15.278426",
     "status": "completed"
    },
    "tags": []
   },
   "outputs": [],
   "source": [
    "\n",
    "def clean_resume(text):\n",
    "\n",
    "    # Remove URLs\n",
    "    text = re.sub(r\"http\\S+\", \"\", text)\n",
    "    # Remove non-alphanumeric characters and extra whitespaces\n",
    "    text = re.sub(r\"[^a-zA-Z0-9\\s]\", \" \", text)\n",
    "    # Remove extra whitespaces\n",
    "    text = re.sub(r\"\\s+\", \" \", text)\n",
    "    # Remove hashtags (words starting with #)\n",
    "    text = re.sub(r\"#\\w+\", \"\", text)\n",
    "    # Remove mentions (words starting with @)\n",
    "    text = re.sub(r\"@\\w+\", \"\", text)\n",
    "    # Remove punctuation and special characters\n",
    "    text = re.sub(r\"[^\\w\\s]\", \"\", text)\n",
    "    text = re.sub(r\"[\\n\\t\\r]\", \"\", text)\n",
    "    text = re.sub(r\"\\n\", \"\", text)\n",
    "    # Convert to lowercase\n",
    "    text = text.lower()\n",
    "\n",
    "    return text\n",
    "\n"
   ]
  },
  {
   "cell_type": "code",
   "execution_count": 16,
   "id": "31c1bd24",
   "metadata": {
    "execution": {
     "iopub.execute_input": "2024-03-30T11:14:15.392454Z",
     "iopub.status.busy": "2024-03-30T11:14:15.392077Z",
     "iopub.status.idle": "2024-03-30T11:14:15.399337Z",
     "shell.execute_reply": "2024-03-30T11:14:15.398515Z"
    },
    "id": "rt8JFFJ0XJrk",
    "outputId": "d0f49dd6-0726-4b46-d5da-9ef1f7133c5b",
    "papermill": {
     "duration": 0.025778,
     "end_time": "2024-03-30T11:14:15.401218",
     "exception": false,
     "start_time": "2024-03-30T11:14:15.375440",
     "status": "completed"
    },
    "tags": []
   },
   "outputs": [
    {
     "data": {
      "text/plain": [
       "'computer skills software knowledge ms power point ms office c protius pcb design multisim micro wind matlab keil latex basic i nternet fundamentals software and hardware knowledge project details diploma project speed control of dc motor using heart beats mini project water gardening system using solar panel final year be project iris recognition system education details january 2016 be education pune maharashtra pune university january 2010 ssc maharashtra board quality engineer quality engineer matrix technologies skill details matlab exprience 6 months pcb exprience 6 months pcb design exprience 6 months company details company matrix technologies description company rb electronics description '"
      ]
     },
     "execution_count": 16,
     "metadata": {},
     "output_type": "execute_result"
    }
   ],
   "source": [
    "clean_resume(\"\"\"COMPUTER SKILLS & SOFTWARE KNOWLEDGE\n",
    "MS-Power Point, MS - Office, C, Protius (PCB Design), Multisim, Micro wind, Matlab, Keil, Latex, Basic I nternet Fundamentals, Software and Hardware Knowledge\n",
    "\n",
    "PROJECT DETAILS\n",
    "Diploma Project: Speed Control of DC Motor Using Heart Beats.\n",
    "Mini Project: Water Gardening System Using Solar Panel.\n",
    "Final Year BE Project: Iris Recognition system.\n",
    "\n",
    "Education Details\n",
    "January 2016 BE EDUCATION Pune, Maharashtra PUNE University\n",
    "January 2010 SSC Maharashtra Board\n",
    "\n",
    "Quality Engineer\n",
    "\n",
    "Quality Engineer - Matrix Technologies\n",
    "Skill Details\n",
    "MATLAB- Exprience - 6 months\n",
    "PCB- Exprience - 6 months\n",
    "PCB DESIGN- Exprience - 6 months\n",
    "http://videogame.com\n",
    "Company Details\n",
    "company - Matrix Technologies\n",
    "description -\n",
    "company - RB Electronics\n",
    "description -\n",
    "\"\"\")"
   ]
  },
  {
   "cell_type": "code",
   "execution_count": 17,
   "id": "e9f9ef7b",
   "metadata": {
    "execution": {
     "iopub.execute_input": "2024-03-30T11:14:15.435726Z",
     "iopub.status.busy": "2024-03-30T11:14:15.434753Z",
     "iopub.status.idle": "2024-03-30T11:14:15.745231Z",
     "shell.execute_reply": "2024-03-30T11:14:15.744265Z"
    },
    "id": "SEw1lZNbgcSF",
    "papermill": {
     "duration": 0.330536,
     "end_time": "2024-03-30T11:14:15.747725",
     "exception": false,
     "start_time": "2024-03-30T11:14:15.417189",
     "status": "completed"
    },
    "tags": []
   },
   "outputs": [],
   "source": [
    "df['Resume']=df['Resume'].apply(lambda x: clean_resume(x))"
   ]
  },
  {
   "cell_type": "code",
   "execution_count": 18,
   "id": "77683f9f",
   "metadata": {
    "execution": {
     "iopub.execute_input": "2024-03-30T11:14:15.781851Z",
     "iopub.status.busy": "2024-03-30T11:14:15.781210Z",
     "iopub.status.idle": "2024-03-30T11:14:15.786744Z",
     "shell.execute_reply": "2024-03-30T11:14:15.786022Z"
    },
    "id": "EFiXDOBjhBIW",
    "outputId": "9f7291a8-98a5-4428-a92e-0ac802949bac",
    "papermill": {
     "duration": 0.024817,
     "end_time": "2024-03-30T11:14:15.788715",
     "exception": false,
     "start_time": "2024-03-30T11:14:15.763898",
     "status": "completed"
    },
    "tags": []
   },
   "outputs": [
    {
     "data": {
      "text/plain": [
       "'skills programming languages python pandas numpy scipy scikit learn matplotlib sql java javascript jquery machine learning regression svm na ve bayes knn random forest decision trees boosting techniques cluster analysis word embedding sentiment analysis natural language processing dimensionality reduction topic modelling lda nmf pca neural nets database visualizations mysql sqlserver cassandra hbase elasticsearch d3 js dc js plotly kibana matplotlib ggplot tableau others regular expression html css angular 6 logstash kafka python flask git docker computer vision open cv and understanding of deep learning education details data science assurance associate data science assurance associate ernst young llp skill details javascript exprience 24 months jquery exprience 24 months python exprience 24 monthscompany details company ernst young llp description fraud investigations and dispute services assurance technology assisted review tar technology assisted review assists in accelerating the review process and run analytics and generate reports core member of a team helped in developing automated review platform tool from scratch for assisting e discovery domain this tool implements predictive coding and topic modelling by automating reviews resulting in reduced labor costs and time spent during the lawyers review understand the end to end flow of the solution doing research and development for classification models predictive analysis and mining of the information present in text data worked on analyzing the outputs and precision monitoring for the entire tool tar assists in predictive coding topic modelling from the evidence by following ey standards developed the classifier models in order to identify red flags and fraud related issues tools technologies python scikit learn tfidf word2vec doc2vec cosine similarity na ve bayes lda nmf for topic modelling vader and text blob for sentiment analysis matplot lib tableau dashboard for reporting multiple data science and analytic projects usa clients text analytics motor vehicle customer review data received customer feedback survey data for past one year performed sentiment positive negative neutral and time series analysis on customer comments across all 4 categories created heat map of terms by survey category based on frequency of words extracted positive and negative words across all the survey categories and plotted word cloud created customized tableau dashboards for effective reporting and visualizations chatbot developed a user friendly chatbot for one of our products which handle simple questions about hours of operation reservation options and so on this chat bot serves entire product related questions giving overview of tool via qa platform and also give recommendation responses so that user question to build chain of relevant answer this too has intelligence to build the pipeline of questions as per user requirement and asks the relevant recommended questions tools technologies python natural language processing nltk spacy topic modelling sentiment analysis word embedding scikit learn javascript jquery sqlserver information governance organizations to make informed decisions about all of the information they store the integrated information governance portfolio synthesizes intelligence across unstructured data sources and facilitates action to ensure organizations are best positioned to counter information risk scan data from multiple sources of formats and parse different file formats extract meta data information push results for indexing elastic search and created customized interactive dashboards using kibana preforming rot analysis on the data which give information of data which helps identify content that is either redundant outdated or trivial preforming full text search analysis on elastic search with predefined methods which can tag as pii personally identifiable information social security numbers addresses names etc which frequently targeted during cyber attacks tools technologies python flask elastic search kibana fraud analytic platform fraud analytics and investigative platform to review all red flag cases fap is a fraud analytics and investigative platform with inbuilt case manager and suite of analytics for various erp systems it can be used by clients to interrogate their accounting systems for identifying the anomalies which can be indicators of fraud by running advanced analytics tools technologies html javascript sqlserver jquery css bootstrap node js d3 js dc js'"
      ]
     },
     "execution_count": 18,
     "metadata": {},
     "output_type": "execute_result"
    }
   ],
   "source": [
    "df['Resume'][0]"
   ]
  },
  {
   "cell_type": "markdown",
   "id": "1fb44630",
   "metadata": {
    "id": "9dsgiRbLkI07",
    "papermill": {
     "duration": 0.016232,
     "end_time": "2024-03-30T11:14:15.821113",
     "exception": false,
     "start_time": "2024-03-30T11:14:15.804881",
     "status": "completed"
    },
    "tags": []
   },
   "source": [
    "# Words into Categorical Values\n",
    "\n",
    "- Make the Category columns into Numbers for processing"
   ]
  },
  {
   "cell_type": "code",
   "execution_count": 19,
   "id": "a51aefbe",
   "metadata": {
    "execution": {
     "iopub.execute_input": "2024-03-30T11:14:15.855346Z",
     "iopub.status.busy": "2024-03-30T11:14:15.854708Z",
     "iopub.status.idle": "2024-03-30T11:14:15.859035Z",
     "shell.execute_reply": "2024-03-30T11:14:15.858280Z"
    },
    "id": "Co6cWbQPG1gx",
    "papermill": {
     "duration": 0.023818,
     "end_time": "2024-03-30T11:14:15.860999",
     "exception": false,
     "start_time": "2024-03-30T11:14:15.837181",
     "status": "completed"
    },
    "tags": []
   },
   "outputs": [],
   "source": [
    "df1= df.copy()"
   ]
  },
  {
   "cell_type": "code",
   "execution_count": 20,
   "id": "4d767947",
   "metadata": {
    "execution": {
     "iopub.execute_input": "2024-03-30T11:14:15.895092Z",
     "iopub.status.busy": "2024-03-30T11:14:15.894457Z",
     "iopub.status.idle": "2024-03-30T11:14:16.037150Z",
     "shell.execute_reply": "2024-03-30T11:14:16.036234Z"
    },
    "id": "3MuxIARIkHO5",
    "papermill": {
     "duration": 0.16245,
     "end_time": "2024-03-30T11:14:16.039535",
     "exception": false,
     "start_time": "2024-03-30T11:14:15.877085",
     "status": "completed"
    },
    "tags": []
   },
   "outputs": [],
   "source": [
    "from sklearn.preprocessing import LabelEncoder\n",
    "le = LabelEncoder()"
   ]
  },
  {
   "cell_type": "code",
   "execution_count": 21,
   "id": "98762316",
   "metadata": {
    "execution": {
     "iopub.execute_input": "2024-03-30T11:14:16.073748Z",
     "iopub.status.busy": "2024-03-30T11:14:16.073200Z",
     "iopub.status.idle": "2024-03-30T11:14:16.079240Z",
     "shell.execute_reply": "2024-03-30T11:14:16.078543Z"
    },
    "id": "Rbg1m2HFk3Uv",
    "papermill": {
     "duration": 0.025391,
     "end_time": "2024-03-30T11:14:16.081153",
     "exception": false,
     "start_time": "2024-03-30T11:14:16.055762",
     "status": "completed"
    },
    "tags": []
   },
   "outputs": [],
   "source": [
    "le.fit(df['Category'])\n",
    "df1['Category_num'] = le.transform(df['Category'])\n",
    "df['Category'] = le.transform(df['Category'])"
   ]
  },
  {
   "cell_type": "code",
   "execution_count": 22,
   "id": "89303a8f",
   "metadata": {
    "execution": {
     "iopub.execute_input": "2024-03-30T11:14:16.115380Z",
     "iopub.status.busy": "2024-03-30T11:14:16.114743Z",
     "iopub.status.idle": "2024-03-30T11:14:16.123112Z",
     "shell.execute_reply": "2024-03-30T11:14:16.122358Z"
    },
    "id": "f_CKxqQklEy4",
    "outputId": "e9b570eb-70fb-4230-86f8-fed410a63174",
    "papermill": {
     "duration": 0.027815,
     "end_time": "2024-03-30T11:14:16.125004",
     "exception": false,
     "start_time": "2024-03-30T11:14:16.097189",
     "status": "completed"
    },
    "tags": []
   },
   "outputs": [
    {
     "data": {
      "text/html": [
       "<div>\n",
       "<style scoped>\n",
       "    .dataframe tbody tr th:only-of-type {\n",
       "        vertical-align: middle;\n",
       "    }\n",
       "\n",
       "    .dataframe tbody tr th {\n",
       "        vertical-align: top;\n",
       "    }\n",
       "\n",
       "    .dataframe thead th {\n",
       "        text-align: right;\n",
       "    }\n",
       "</style>\n",
       "<table border=\"1\" class=\"dataframe\">\n",
       "  <thead>\n",
       "    <tr style=\"text-align: right;\">\n",
       "      <th></th>\n",
       "      <th>Category</th>\n",
       "      <th>Resume</th>\n",
       "    </tr>\n",
       "  </thead>\n",
       "  <tbody>\n",
       "    <tr>\n",
       "      <th>0</th>\n",
       "      <td>6</td>\n",
       "      <td>skills programming languages python pandas num...</td>\n",
       "    </tr>\n",
       "    <tr>\n",
       "      <th>1</th>\n",
       "      <td>6</td>\n",
       "      <td>education details may 2013 to may 2017 b e uit...</td>\n",
       "    </tr>\n",
       "    <tr>\n",
       "      <th>2</th>\n",
       "      <td>6</td>\n",
       "      <td>areas of interest deep learning control system...</td>\n",
       "    </tr>\n",
       "    <tr>\n",
       "      <th>3</th>\n",
       "      <td>6</td>\n",
       "      <td>skills r python sap hana tableau sap hana sql ...</td>\n",
       "    </tr>\n",
       "    <tr>\n",
       "      <th>4</th>\n",
       "      <td>6</td>\n",
       "      <td>education details mca ymcaust faridabad haryan...</td>\n",
       "    </tr>\n",
       "  </tbody>\n",
       "</table>\n",
       "</div>"
      ],
      "text/plain": [
       "   Category                                             Resume\n",
       "0         6  skills programming languages python pandas num...\n",
       "1         6  education details may 2013 to may 2017 b e uit...\n",
       "2         6  areas of interest deep learning control system...\n",
       "3         6  skills r python sap hana tableau sap hana sql ...\n",
       "4         6  education details mca ymcaust faridabad haryan..."
      ]
     },
     "execution_count": 22,
     "metadata": {},
     "output_type": "execute_result"
    }
   ],
   "source": [
    "df.head()"
   ]
  },
  {
   "cell_type": "markdown",
   "id": "f4bc2945",
   "metadata": {
    "id": "ifAnCHuMljiI",
    "papermill": {
     "duration": 0.016076,
     "end_time": "2024-03-30T11:14:16.157465",
     "exception": false,
     "start_time": "2024-03-30T11:14:16.141389",
     "status": "completed"
    },
    "tags": []
   },
   "source": [
    "# Vectorization"
   ]
  },
  {
   "cell_type": "code",
   "execution_count": 23,
   "id": "efd81dfe",
   "metadata": {
    "execution": {
     "iopub.execute_input": "2024-03-30T11:14:16.192257Z",
     "iopub.status.busy": "2024-03-30T11:14:16.191574Z",
     "iopub.status.idle": "2024-03-30T11:14:16.814193Z",
     "shell.execute_reply": "2024-03-30T11:14:16.813085Z"
    },
    "id": "9eMth3-nlir_",
    "papermill": {
     "duration": 0.643152,
     "end_time": "2024-03-30T11:14:16.816812",
     "exception": false,
     "start_time": "2024-03-30T11:14:16.173660",
     "status": "completed"
    },
    "tags": []
   },
   "outputs": [],
   "source": [
    "from sklearn.feature_extraction.text import TfidfVectorizer\n",
    "tfidf = TfidfVectorizer(stop_words='english')\n",
    "\n",
    "tfidf.fit(df['Resume'])\n",
    "required_text = tfidf.transform(df['Resume'])\n"
   ]
  },
  {
   "cell_type": "code",
   "execution_count": 24,
   "id": "0ce75fe4",
   "metadata": {
    "execution": {
     "iopub.execute_input": "2024-03-30T11:14:16.852744Z",
     "iopub.status.busy": "2024-03-30T11:14:16.851684Z",
     "iopub.status.idle": "2024-03-30T11:14:16.859096Z",
     "shell.execute_reply": "2024-03-30T11:14:16.858010Z"
    },
    "id": "6UfTFNnK7gYu",
    "outputId": "657cead2-004f-4390-b296-36dc4ef3367f",
    "papermill": {
     "duration": 0.027245,
     "end_time": "2024-03-30T11:14:16.861264",
     "exception": false,
     "start_time": "2024-03-30T11:14:16.834019",
     "status": "completed"
    },
    "tags": []
   },
   "outputs": [
    {
     "data": {
      "text/plain": [
       "<962x7348 sparse matrix of type '<class 'numpy.float64'>'\n",
       "\twith 164128 stored elements in Compressed Sparse Row format>"
      ]
     },
     "execution_count": 24,
     "metadata": {},
     "output_type": "execute_result"
    }
   ],
   "source": [
    "required_text"
   ]
  },
  {
   "cell_type": "markdown",
   "id": "e8afefcd",
   "metadata": {
    "id": "oremaAok8kA_",
    "papermill": {
     "duration": 0.015957,
     "end_time": "2024-03-30T11:14:16.893546",
     "exception": false,
     "start_time": "2024-03-30T11:14:16.877589",
     "status": "completed"
    },
    "tags": []
   },
   "source": [
    "Splitting Dataset"
   ]
  },
  {
   "cell_type": "code",
   "execution_count": 25,
   "id": "0d71be6e",
   "metadata": {
    "execution": {
     "iopub.execute_input": "2024-03-30T11:14:16.928271Z",
     "iopub.status.busy": "2024-03-30T11:14:16.927609Z",
     "iopub.status.idle": "2024-03-30T11:14:17.029494Z",
     "shell.execute_reply": "2024-03-30T11:14:17.028409Z"
    },
    "id": "9mNX3ZX88DnN",
    "papermill": {
     "duration": 0.12226,
     "end_time": "2024-03-30T11:14:17.032150",
     "exception": false,
     "start_time": "2024-03-30T11:14:16.909890",
     "status": "completed"
    },
    "tags": []
   },
   "outputs": [],
   "source": [
    "from sklearn.model_selection import train_test_split , GridSearchCV\n",
    "X_train, X_test, y_train, y_test = train_test_split(required_text, df['Category'], test_size=0.2, random_state=42)"
   ]
  },
  {
   "cell_type": "code",
   "execution_count": 26,
   "id": "cac94a43",
   "metadata": {
    "execution": {
     "iopub.execute_input": "2024-03-30T11:14:17.066560Z",
     "iopub.status.busy": "2024-03-30T11:14:17.066165Z",
     "iopub.status.idle": "2024-03-30T11:14:17.073079Z",
     "shell.execute_reply": "2024-03-30T11:14:17.071901Z"
    },
    "id": "RzcR-ei_85oW",
    "outputId": "47982bd7-5ebb-4bf0-9aeb-af66d0fd3873",
    "papermill": {
     "duration": 0.02695,
     "end_time": "2024-03-30T11:14:17.075597",
     "exception": false,
     "start_time": "2024-03-30T11:14:17.048647",
     "status": "completed"
    },
    "tags": []
   },
   "outputs": [
    {
     "name": "stdout",
     "output_type": "stream",
     "text": [
      "X_train (769, 7348)\n",
      "X_test (193, 7348)\n",
      "y_train (769,)\n",
      "y_test (193,)\n"
     ]
    }
   ],
   "source": [
    "print(f\"X_train { X_train.shape}\")\n",
    "print(f\"X_test { X_test.shape}\")\n",
    "print(f\"y_train { y_train.shape}\")\n",
    "print(f\"y_test { y_test.shape}\")\n"
   ]
  },
  {
   "cell_type": "markdown",
   "id": "db4f0f03",
   "metadata": {
    "id": "X3RjZ2J-9oOj",
    "papermill": {
     "duration": 0.01601,
     "end_time": "2024-03-30T11:14:17.108605",
     "exception": false,
     "start_time": "2024-03-30T11:14:17.092595",
     "status": "completed"
    },
    "tags": []
   },
   "source": [
    "#Train Model"
   ]
  },
  {
   "cell_type": "markdown",
   "id": "27610d90",
   "metadata": {
    "id": "smxy4VZt_avp",
    "papermill": {
     "duration": 0.016132,
     "end_time": "2024-03-30T11:14:17.140908",
     "exception": false,
     "start_time": "2024-03-30T11:14:17.124776",
     "status": "completed"
    },
    "tags": []
   },
   "source": [
    "##KNeighborsClassifier"
   ]
  },
  {
   "cell_type": "code",
   "execution_count": 27,
   "id": "9d6bd7fd",
   "metadata": {
    "execution": {
     "iopub.execute_input": "2024-03-30T11:14:17.175574Z",
     "iopub.status.busy": "2024-03-30T11:14:17.175200Z",
     "iopub.status.idle": "2024-03-30T11:14:17.318057Z",
     "shell.execute_reply": "2024-03-30T11:14:17.316914Z"
    },
    "id": "bfZbfUwI9GFE",
    "papermill": {
     "duration": 0.163005,
     "end_time": "2024-03-30T11:14:17.320539",
     "exception": false,
     "start_time": "2024-03-30T11:14:17.157534",
     "status": "completed"
    },
    "tags": []
   },
   "outputs": [],
   "source": [
    "from sklearn.neighbors import KNeighborsClassifier\n",
    "from sklearn.metrics import accuracy_score, precision_score, recall_score, f1_score, classification_report"
   ]
  },
  {
   "cell_type": "code",
   "execution_count": 28,
   "id": "57f8ad04",
   "metadata": {
    "execution": {
     "iopub.execute_input": "2024-03-30T11:14:17.354987Z",
     "iopub.status.busy": "2024-03-30T11:14:17.354590Z",
     "iopub.status.idle": "2024-03-30T11:14:17.359149Z",
     "shell.execute_reply": "2024-03-30T11:14:17.358020Z"
    },
    "id": "q6CjuBasAF08",
    "papermill": {
     "duration": 0.024456,
     "end_time": "2024-03-30T11:14:17.361331",
     "exception": false,
     "start_time": "2024-03-30T11:14:17.336875",
     "status": "completed"
    },
    "tags": []
   },
   "outputs": [],
   "source": [
    "# Define a grid of Hyperparameters to Search over\n",
    "param_grid = {'n_neighbors' : [3,5,7,8]}\n"
   ]
  },
  {
   "cell_type": "code",
   "execution_count": 29,
   "id": "007f94e3",
   "metadata": {
    "execution": {
     "iopub.execute_input": "2024-03-30T11:14:17.396155Z",
     "iopub.status.busy": "2024-03-30T11:14:17.395519Z",
     "iopub.status.idle": "2024-03-30T11:14:17.400650Z",
     "shell.execute_reply": "2024-03-30T11:14:17.399376Z"
    },
    "id": "Lx-WKTtuAocU",
    "papermill": {
     "duration": 0.025199,
     "end_time": "2024-03-30T11:14:17.402987",
     "exception": false,
     "start_time": "2024-03-30T11:14:17.377788",
     "status": "completed"
    },
    "tags": []
   },
   "outputs": [],
   "source": [
    "knn_classifier = KNeighborsClassifier()\n"
   ]
  },
  {
   "cell_type": "code",
   "execution_count": 30,
   "id": "21d78b8f",
   "metadata": {
    "execution": {
     "iopub.execute_input": "2024-03-30T11:14:17.438186Z",
     "iopub.status.busy": "2024-03-30T11:14:17.437805Z",
     "iopub.status.idle": "2024-03-30T11:14:44.648646Z",
     "shell.execute_reply": "2024-03-30T11:14:44.647578Z"
    },
    "id": "pFUUNHKLAuzc",
    "outputId": "ca0702e2-0beb-45c7-fb6b-aef7ef01023f",
    "papermill": {
     "duration": 27.230865,
     "end_time": "2024-03-30T11:14:44.650855",
     "exception": false,
     "start_time": "2024-03-30T11:14:17.419990",
     "status": "completed"
    },
    "tags": []
   },
   "outputs": [
    {
     "data": {
      "text/html": [
       "<style>#sk-container-id-1 {color: black;background-color: white;}#sk-container-id-1 pre{padding: 0;}#sk-container-id-1 div.sk-toggleable {background-color: white;}#sk-container-id-1 label.sk-toggleable__label {cursor: pointer;display: block;width: 100%;margin-bottom: 0;padding: 0.3em;box-sizing: border-box;text-align: center;}#sk-container-id-1 label.sk-toggleable__label-arrow:before {content: \"▸\";float: left;margin-right: 0.25em;color: #696969;}#sk-container-id-1 label.sk-toggleable__label-arrow:hover:before {color: black;}#sk-container-id-1 div.sk-estimator:hover label.sk-toggleable__label-arrow:before {color: black;}#sk-container-id-1 div.sk-toggleable__content {max-height: 0;max-width: 0;overflow: hidden;text-align: left;background-color: #f0f8ff;}#sk-container-id-1 div.sk-toggleable__content pre {margin: 0.2em;color: black;border-radius: 0.25em;background-color: #f0f8ff;}#sk-container-id-1 input.sk-toggleable__control:checked~div.sk-toggleable__content {max-height: 200px;max-width: 100%;overflow: auto;}#sk-container-id-1 input.sk-toggleable__control:checked~label.sk-toggleable__label-arrow:before {content: \"▾\";}#sk-container-id-1 div.sk-estimator input.sk-toggleable__control:checked~label.sk-toggleable__label {background-color: #d4ebff;}#sk-container-id-1 div.sk-label input.sk-toggleable__control:checked~label.sk-toggleable__label {background-color: #d4ebff;}#sk-container-id-1 input.sk-hidden--visually {border: 0;clip: rect(1px 1px 1px 1px);clip: rect(1px, 1px, 1px, 1px);height: 1px;margin: -1px;overflow: hidden;padding: 0;position: absolute;width: 1px;}#sk-container-id-1 div.sk-estimator {font-family: monospace;background-color: #f0f8ff;border: 1px dotted black;border-radius: 0.25em;box-sizing: border-box;margin-bottom: 0.5em;}#sk-container-id-1 div.sk-estimator:hover {background-color: #d4ebff;}#sk-container-id-1 div.sk-parallel-item::after {content: \"\";width: 100%;border-bottom: 1px solid gray;flex-grow: 1;}#sk-container-id-1 div.sk-label:hover label.sk-toggleable__label {background-color: #d4ebff;}#sk-container-id-1 div.sk-serial::before {content: \"\";position: absolute;border-left: 1px solid gray;box-sizing: border-box;top: 0;bottom: 0;left: 50%;z-index: 0;}#sk-container-id-1 div.sk-serial {display: flex;flex-direction: column;align-items: center;background-color: white;padding-right: 0.2em;padding-left: 0.2em;position: relative;}#sk-container-id-1 div.sk-item {position: relative;z-index: 1;}#sk-container-id-1 div.sk-parallel {display: flex;align-items: stretch;justify-content: center;background-color: white;position: relative;}#sk-container-id-1 div.sk-item::before, #sk-container-id-1 div.sk-parallel-item::before {content: \"\";position: absolute;border-left: 1px solid gray;box-sizing: border-box;top: 0;bottom: 0;left: 50%;z-index: -1;}#sk-container-id-1 div.sk-parallel-item {display: flex;flex-direction: column;z-index: 1;position: relative;background-color: white;}#sk-container-id-1 div.sk-parallel-item:first-child::after {align-self: flex-end;width: 50%;}#sk-container-id-1 div.sk-parallel-item:last-child::after {align-self: flex-start;width: 50%;}#sk-container-id-1 div.sk-parallel-item:only-child::after {width: 0;}#sk-container-id-1 div.sk-dashed-wrapped {border: 1px dashed gray;margin: 0 0.4em 0.5em 0.4em;box-sizing: border-box;padding-bottom: 0.4em;background-color: white;}#sk-container-id-1 div.sk-label label {font-family: monospace;font-weight: bold;display: inline-block;line-height: 1.2em;}#sk-container-id-1 div.sk-label-container {text-align: center;}#sk-container-id-1 div.sk-container {/* jupyter's `normalize.less` sets `[hidden] { display: none; }` but bootstrap.min.css set `[hidden] { display: none !important; }` so we also need the `!important` here to be able to override the default hidden behavior on the sphinx rendered scikit-learn.org. See: https://github.com/scikit-learn/scikit-learn/issues/21755 */display: inline-block !important;position: relative;}#sk-container-id-1 div.sk-text-repr-fallback {display: none;}</style><div id=\"sk-container-id-1\" class=\"sk-top-container\"><div class=\"sk-text-repr-fallback\"><pre>GridSearchCV(cv=5, estimator=KNeighborsClassifier(),\n",
       "             param_grid={&#x27;n_neighbors&#x27;: [3, 5, 7, 8]}, scoring=&#x27;accuracy&#x27;)</pre><b>In a Jupyter environment, please rerun this cell to show the HTML representation or trust the notebook. <br />On GitHub, the HTML representation is unable to render, please try loading this page with nbviewer.org.</b></div><div class=\"sk-container\" hidden><div class=\"sk-item sk-dashed-wrapped\"><div class=\"sk-label-container\"><div class=\"sk-label sk-toggleable\"><input class=\"sk-toggleable__control sk-hidden--visually\" id=\"sk-estimator-id-1\" type=\"checkbox\" ><label for=\"sk-estimator-id-1\" class=\"sk-toggleable__label sk-toggleable__label-arrow\">GridSearchCV</label><div class=\"sk-toggleable__content\"><pre>GridSearchCV(cv=5, estimator=KNeighborsClassifier(),\n",
       "             param_grid={&#x27;n_neighbors&#x27;: [3, 5, 7, 8]}, scoring=&#x27;accuracy&#x27;)</pre></div></div></div><div class=\"sk-parallel\"><div class=\"sk-parallel-item\"><div class=\"sk-item\"><div class=\"sk-label-container\"><div class=\"sk-label sk-toggleable\"><input class=\"sk-toggleable__control sk-hidden--visually\" id=\"sk-estimator-id-2\" type=\"checkbox\" ><label for=\"sk-estimator-id-2\" class=\"sk-toggleable__label sk-toggleable__label-arrow\">estimator: KNeighborsClassifier</label><div class=\"sk-toggleable__content\"><pre>KNeighborsClassifier()</pre></div></div></div><div class=\"sk-serial\"><div class=\"sk-item\"><div class=\"sk-estimator sk-toggleable\"><input class=\"sk-toggleable__control sk-hidden--visually\" id=\"sk-estimator-id-3\" type=\"checkbox\" ><label for=\"sk-estimator-id-3\" class=\"sk-toggleable__label sk-toggleable__label-arrow\">KNeighborsClassifier</label><div class=\"sk-toggleable__content\"><pre>KNeighborsClassifier()</pre></div></div></div></div></div></div></div></div></div></div>"
      ],
      "text/plain": [
       "GridSearchCV(cv=5, estimator=KNeighborsClassifier(),\n",
       "             param_grid={'n_neighbors': [3, 5, 7, 8]}, scoring='accuracy')"
      ]
     },
     "execution_count": 30,
     "metadata": {},
     "output_type": "execute_result"
    }
   ],
   "source": [
    "grid_search = GridSearchCV(knn_classifier, param_grid, cv=5, scoring='accuracy')\n",
    "grid_search.fit(X_train, y_train)"
   ]
  },
  {
   "cell_type": "code",
   "execution_count": 31,
   "id": "9bbaf422",
   "metadata": {
    "execution": {
     "iopub.execute_input": "2024-03-30T11:14:44.686764Z",
     "iopub.status.busy": "2024-03-30T11:14:44.686022Z",
     "iopub.status.idle": "2024-03-30T11:14:44.690654Z",
     "shell.execute_reply": "2024-03-30T11:14:44.689973Z"
    },
    "id": "sppAhPO2BDJV",
    "papermill": {
     "duration": 0.025008,
     "end_time": "2024-03-30T11:14:44.692621",
     "exception": false,
     "start_time": "2024-03-30T11:14:44.667613",
     "status": "completed"
    },
    "tags": []
   },
   "outputs": [],
   "source": [
    "best_params = grid_search.best_params_\n",
    "best_score = grid_search.best_score_"
   ]
  },
  {
   "cell_type": "code",
   "execution_count": 32,
   "id": "c5ea3cd0",
   "metadata": {
    "execution": {
     "iopub.execute_input": "2024-03-30T11:14:44.728088Z",
     "iopub.status.busy": "2024-03-30T11:14:44.727376Z",
     "iopub.status.idle": "2024-03-30T11:14:44.732613Z",
     "shell.execute_reply": "2024-03-30T11:14:44.731623Z"
    },
    "id": "D1yPSkcUBnxH",
    "papermill": {
     "duration": 0.025456,
     "end_time": "2024-03-30T11:14:44.734718",
     "exception": false,
     "start_time": "2024-03-30T11:14:44.709262",
     "status": "completed"
    },
    "tags": []
   },
   "outputs": [],
   "source": [
    "# use the best parameters to initilize the classifier\n",
    "best_k = best_params['n_neighbors']\n",
    "best_knn_classifier = KNeighborsClassifier(n_neighbors=best_k)"
   ]
  },
  {
   "cell_type": "code",
   "execution_count": 33,
   "id": "a03d9e0c",
   "metadata": {
    "execution": {
     "iopub.execute_input": "2024-03-30T11:14:44.769840Z",
     "iopub.status.busy": "2024-03-30T11:14:44.769490Z",
     "iopub.status.idle": "2024-03-30T11:14:44.777226Z",
     "shell.execute_reply": "2024-03-30T11:14:44.776324Z"
    },
    "id": "8-2nZSCnCHG-",
    "outputId": "e2bfcd7b-7f7a-4155-f491-23e002e6e952",
    "papermill": {
     "duration": 0.027551,
     "end_time": "2024-03-30T11:14:44.779043",
     "exception": false,
     "start_time": "2024-03-30T11:14:44.751492",
     "status": "completed"
    },
    "tags": []
   },
   "outputs": [
    {
     "data": {
      "text/html": [
       "<style>#sk-container-id-2 {color: black;background-color: white;}#sk-container-id-2 pre{padding: 0;}#sk-container-id-2 div.sk-toggleable {background-color: white;}#sk-container-id-2 label.sk-toggleable__label {cursor: pointer;display: block;width: 100%;margin-bottom: 0;padding: 0.3em;box-sizing: border-box;text-align: center;}#sk-container-id-2 label.sk-toggleable__label-arrow:before {content: \"▸\";float: left;margin-right: 0.25em;color: #696969;}#sk-container-id-2 label.sk-toggleable__label-arrow:hover:before {color: black;}#sk-container-id-2 div.sk-estimator:hover label.sk-toggleable__label-arrow:before {color: black;}#sk-container-id-2 div.sk-toggleable__content {max-height: 0;max-width: 0;overflow: hidden;text-align: left;background-color: #f0f8ff;}#sk-container-id-2 div.sk-toggleable__content pre {margin: 0.2em;color: black;border-radius: 0.25em;background-color: #f0f8ff;}#sk-container-id-2 input.sk-toggleable__control:checked~div.sk-toggleable__content {max-height: 200px;max-width: 100%;overflow: auto;}#sk-container-id-2 input.sk-toggleable__control:checked~label.sk-toggleable__label-arrow:before {content: \"▾\";}#sk-container-id-2 div.sk-estimator input.sk-toggleable__control:checked~label.sk-toggleable__label {background-color: #d4ebff;}#sk-container-id-2 div.sk-label input.sk-toggleable__control:checked~label.sk-toggleable__label {background-color: #d4ebff;}#sk-container-id-2 input.sk-hidden--visually {border: 0;clip: rect(1px 1px 1px 1px);clip: rect(1px, 1px, 1px, 1px);height: 1px;margin: -1px;overflow: hidden;padding: 0;position: absolute;width: 1px;}#sk-container-id-2 div.sk-estimator {font-family: monospace;background-color: #f0f8ff;border: 1px dotted black;border-radius: 0.25em;box-sizing: border-box;margin-bottom: 0.5em;}#sk-container-id-2 div.sk-estimator:hover {background-color: #d4ebff;}#sk-container-id-2 div.sk-parallel-item::after {content: \"\";width: 100%;border-bottom: 1px solid gray;flex-grow: 1;}#sk-container-id-2 div.sk-label:hover label.sk-toggleable__label {background-color: #d4ebff;}#sk-container-id-2 div.sk-serial::before {content: \"\";position: absolute;border-left: 1px solid gray;box-sizing: border-box;top: 0;bottom: 0;left: 50%;z-index: 0;}#sk-container-id-2 div.sk-serial {display: flex;flex-direction: column;align-items: center;background-color: white;padding-right: 0.2em;padding-left: 0.2em;position: relative;}#sk-container-id-2 div.sk-item {position: relative;z-index: 1;}#sk-container-id-2 div.sk-parallel {display: flex;align-items: stretch;justify-content: center;background-color: white;position: relative;}#sk-container-id-2 div.sk-item::before, #sk-container-id-2 div.sk-parallel-item::before {content: \"\";position: absolute;border-left: 1px solid gray;box-sizing: border-box;top: 0;bottom: 0;left: 50%;z-index: -1;}#sk-container-id-2 div.sk-parallel-item {display: flex;flex-direction: column;z-index: 1;position: relative;background-color: white;}#sk-container-id-2 div.sk-parallel-item:first-child::after {align-self: flex-end;width: 50%;}#sk-container-id-2 div.sk-parallel-item:last-child::after {align-self: flex-start;width: 50%;}#sk-container-id-2 div.sk-parallel-item:only-child::after {width: 0;}#sk-container-id-2 div.sk-dashed-wrapped {border: 1px dashed gray;margin: 0 0.4em 0.5em 0.4em;box-sizing: border-box;padding-bottom: 0.4em;background-color: white;}#sk-container-id-2 div.sk-label label {font-family: monospace;font-weight: bold;display: inline-block;line-height: 1.2em;}#sk-container-id-2 div.sk-label-container {text-align: center;}#sk-container-id-2 div.sk-container {/* jupyter's `normalize.less` sets `[hidden] { display: none; }` but bootstrap.min.css set `[hidden] { display: none !important; }` so we also need the `!important` here to be able to override the default hidden behavior on the sphinx rendered scikit-learn.org. See: https://github.com/scikit-learn/scikit-learn/issues/21755 */display: inline-block !important;position: relative;}#sk-container-id-2 div.sk-text-repr-fallback {display: none;}</style><div id=\"sk-container-id-2\" class=\"sk-top-container\"><div class=\"sk-text-repr-fallback\"><pre>KNeighborsClassifier(n_neighbors=3)</pre><b>In a Jupyter environment, please rerun this cell to show the HTML representation or trust the notebook. <br />On GitHub, the HTML representation is unable to render, please try loading this page with nbviewer.org.</b></div><div class=\"sk-container\" hidden><div class=\"sk-item\"><div class=\"sk-estimator sk-toggleable\"><input class=\"sk-toggleable__control sk-hidden--visually\" id=\"sk-estimator-id-4\" type=\"checkbox\" checked><label for=\"sk-estimator-id-4\" class=\"sk-toggleable__label sk-toggleable__label-arrow\">KNeighborsClassifier</label><div class=\"sk-toggleable__content\"><pre>KNeighborsClassifier(n_neighbors=3)</pre></div></div></div></div></div>"
      ],
      "text/plain": [
       "KNeighborsClassifier(n_neighbors=3)"
      ]
     },
     "execution_count": 33,
     "metadata": {},
     "output_type": "execute_result"
    }
   ],
   "source": [
    "# Train the KNN classifiers with the best parameters\n",
    "best_knn_classifier.fit(X_train, y_train)"
   ]
  },
  {
   "cell_type": "code",
   "execution_count": 34,
   "id": "d984be0f",
   "metadata": {
    "execution": {
     "iopub.execute_input": "2024-03-30T11:14:44.816169Z",
     "iopub.status.busy": "2024-03-30T11:14:44.815284Z",
     "iopub.status.idle": "2024-03-30T11:14:46.834162Z",
     "shell.execute_reply": "2024-03-30T11:14:46.833236Z"
    },
    "id": "EvlRD_I1Cb-r",
    "papermill": {
     "duration": 2.039498,
     "end_time": "2024-03-30T11:14:46.836851",
     "exception": false,
     "start_time": "2024-03-30T11:14:44.797353",
     "status": "completed"
    },
    "tags": []
   },
   "outputs": [],
   "source": [
    "y_pred = best_knn_classifier.predict(X_test)"
   ]
  },
  {
   "cell_type": "code",
   "execution_count": 35,
   "id": "39acd51e",
   "metadata": {
    "execution": {
     "iopub.execute_input": "2024-03-30T11:14:46.873146Z",
     "iopub.status.busy": "2024-03-30T11:14:46.872476Z",
     "iopub.status.idle": "2024-03-30T11:14:46.885340Z",
     "shell.execute_reply": "2024-03-30T11:14:46.884372Z"
    },
    "id": "ilyCXWX9CqIh",
    "papermill": {
     "duration": 0.033674,
     "end_time": "2024-03-30T11:14:46.887569",
     "exception": false,
     "start_time": "2024-03-30T11:14:46.853895",
     "status": "completed"
    },
    "tags": []
   },
   "outputs": [],
   "source": [
    "class_report = classification_report(y_test, y_pred)"
   ]
  },
  {
   "cell_type": "code",
   "execution_count": 36,
   "id": "3fd02f53",
   "metadata": {
    "execution": {
     "iopub.execute_input": "2024-03-30T11:14:46.924451Z",
     "iopub.status.busy": "2024-03-30T11:14:46.923763Z",
     "iopub.status.idle": "2024-03-30T11:14:46.929246Z",
     "shell.execute_reply": "2024-03-30T11:14:46.928081Z"
    },
    "id": "W47wYLbbCxhZ",
    "outputId": "e3ff75b5-149c-4073-b6f5-e7b9e5a0f313",
    "papermill": {
     "duration": 0.026283,
     "end_time": "2024-03-30T11:14:46.931303",
     "exception": false,
     "start_time": "2024-03-30T11:14:46.905020",
     "status": "completed"
    },
    "tags": []
   },
   "outputs": [
    {
     "name": "stdout",
     "output_type": "stream",
     "text": [
      "Best Parameters: {'n_neighbors': 3}\n",
      "Best Score (CV Accuracy): 0.9740089975384093\n",
      "Classification Report:\n",
      "              precision    recall  f1-score   support\n",
      "\n",
      "           0       1.00      1.00      1.00         3\n",
      "           1       1.00      1.00      1.00         6\n",
      "           2       1.00      1.00      1.00         5\n",
      "           3       1.00      1.00      1.00         7\n",
      "           4       1.00      1.00      1.00         4\n",
      "           5       1.00      1.00      1.00         9\n",
      "           6       1.00      1.00      1.00         5\n",
      "           7       1.00      1.00      1.00         8\n",
      "           8       1.00      0.93      0.96        14\n",
      "           9       1.00      1.00      1.00         5\n",
      "          10       1.00      1.00      1.00         7\n",
      "          11       1.00      1.00      1.00         6\n",
      "          12       1.00      1.00      1.00        12\n",
      "          13       1.00      1.00      1.00         4\n",
      "          14       1.00      1.00      1.00         7\n",
      "          15       1.00      1.00      1.00        15\n",
      "          16       1.00      1.00      1.00         8\n",
      "          17       1.00      1.00      1.00         3\n",
      "          18       1.00      1.00      1.00        12\n",
      "          19       0.88      1.00      0.93         7\n",
      "          20       1.00      1.00      1.00        10\n",
      "          21       1.00      1.00      1.00         7\n",
      "          22       1.00      1.00      1.00         8\n",
      "          23       1.00      1.00      1.00        16\n",
      "          24       1.00      1.00      1.00         5\n",
      "\n",
      "    accuracy                           0.99       193\n",
      "   macro avg       0.99      1.00      1.00       193\n",
      "weighted avg       1.00      0.99      0.99       193\n",
      "\n"
     ]
    }
   ],
   "source": [
    "# Print best parameters and classification report\n",
    "print(\"Best Parameters:\", best_params)\n",
    "print(\"Best Score (CV Accuracy):\", best_score)\n",
    "print(\"Classification Report:\")\n",
    "print(class_report)"
   ]
  },
  {
   "cell_type": "markdown",
   "id": "a5ae3e0d",
   "metadata": {
    "id": "qBCi_irIEyU7",
    "papermill": {
     "duration": 0.017174,
     "end_time": "2024-03-30T11:14:46.965861",
     "exception": false,
     "start_time": "2024-03-30T11:14:46.948687",
     "status": "completed"
    },
    "tags": []
   },
   "source": [
    "#Pickling Data"
   ]
  },
  {
   "cell_type": "code",
   "execution_count": 37,
   "id": "2f4c279e",
   "metadata": {
    "execution": {
     "iopub.execute_input": "2024-03-30T11:14:47.001894Z",
     "iopub.status.busy": "2024-03-30T11:14:47.001202Z",
     "iopub.status.idle": "2024-03-30T11:14:47.009374Z",
     "shell.execute_reply": "2024-03-30T11:14:47.008608Z"
    },
    "id": "KVOg9uMjCzTL",
    "papermill": {
     "duration": 0.028644,
     "end_time": "2024-03-30T11:14:47.011484",
     "exception": false,
     "start_time": "2024-03-30T11:14:46.982840",
     "status": "completed"
    },
    "tags": []
   },
   "outputs": [],
   "source": [
    "import pickle\n",
    "pickle.dump(tfidf,open('tfidf.pkl', 'wb'))\n",
    "pickle.dump(best_knn_classifier,open('best_knn_classifier.pkl', 'wb'))"
   ]
  },
  {
   "cell_type": "code",
   "execution_count": 38,
   "id": "cbb02db3",
   "metadata": {
    "execution": {
     "iopub.execute_input": "2024-03-30T11:14:47.047530Z",
     "iopub.status.busy": "2024-03-30T11:14:47.046854Z",
     "iopub.status.idle": "2024-03-30T11:14:47.052619Z",
     "shell.execute_reply": "2024-03-30T11:14:47.051754Z"
    },
    "id": "yaBOSRjlFGzb",
    "papermill": {
     "duration": 0.026361,
     "end_time": "2024-03-30T11:14:47.054845",
     "exception": false,
     "start_time": "2024-03-30T11:14:47.028484",
     "status": "completed"
    },
    "tags": []
   },
   "outputs": [],
   "source": [
    "Sample_resume=\"\"\"\n",
    "\n",
    "\n",
    "CARTER ANDRADE\n",
    "Manual Tester\n",
    "+1-115-873-4179\n",
    "kimberlyjhnsn@gmail.com\n",
    "linkedin.com/in/kimberly.johnson9\n",
    "Los Angeles, CA\n",
    "A hard-working manual tester who is attentive to detail and has excellent time-management skills. Has achieved a 99% success rate in identifying bugs and suggesting ways to fix them. Experienced in working with different PM methodologies and database software.\n",
    "Manual Tester\n",
    "Wolf Inc\n",
    "\n",
    "2019 - Present\n",
    "\n",
    "Los Angeles, CA\n",
    "Wolf Inc is the third-largest software development company in the US\n",
    "•\n",
    "Working closely with the software development team to ensure bug-free applications\n",
    "•\n",
    "Actively participating in all phases of product testing, including planning and delivery recommendations\n",
    "•\n",
    "Writing extensive bug reports\n",
    "•\n",
    "Providing guidance to interns and junior manual testers\n",
    "•\n",
    "Participating in the QA processes of more than 14 companies annually\n",
    "Junior Manual Tester (QA)\n",
    "Schmeler\n",
    "\n",
    "2017 - 2019\n",
    "\n",
    "Singapore, Singapore\n",
    "Schmeler is a Singapore-based company which provides QA services to clients and partners\n",
    "•\n",
    "Provided numerous recommendations on ways to improve the user experience\n",
    "•\n",
    "Secured more than 20 successful product releases\n",
    "•\n",
    "Was individually responsible for testing the apps of 11 clients\n",
    "•\n",
    "Identified 97% of issues related to my personal clients' apps in 2018\n",
    "Manual tester - Summer Internship\n",
    "Padberg\n",
    "\n",
    "2016 - 2016\n",
    "\n",
    "San Jose, CA\n",
    "Padberg is a US-based company that specializes in service gamification\n",
    "•\n",
    "Supported senior colleagues by identifying bugs and suggesting improvements\n",
    "•\n",
    "Performed manual testing on 4 applications\n",
    "•\n",
    "Reported more than 700 issues\n",
    "Best Manual Tester in 2020\n",
    "Awarded by: Wolf Inc. for achieving 99% bug-free rate in 2020\n",
    "Innovative Approach to Manual Testing\n",
    "Adopted an innovative approach to manual testing by co-leading an interdisciplinary team for a short project\n",
    "TECH STACK\n",
    "JDBC\n",
    "ClickUp\n",
    "Testrail\n",
    "Jira\n",
    "Test Planning\n",
    "Oracle\n",
    "SQL\n",
    "MS Office\n",
    "Scrum\n",
    "Lean\n",
    "Waterfall\n",
    "Bachelor of Science in Computer Science\n",
    "University of California, Berkeley\n",
    "\n",
    "2013 - 2017\n",
    "\n",
    "Berkeley, CA\n",
    "Attention to Detail\n",
    "Completing all tasks while paying attention to even the smallest issues\n",
    "Strong Work Ethic\n",
    "Having an immense desire to complete each task in the best way possible\n",
    "Motivation and Hard Work\n",
    "Always motivated to learn new things and improve in all areas of life\n",
    "Manual QA\n",
    "LevelUp Learning IT Center, 2021\n",
    "Manual Testing Online Course\n",
    "FITA Academy, 2018\n",
    "SEO course\n",
    "IMT Academy, 2018\n",
    "ISTQB (Advanced)\n",
    "ASTQB, 2017\n",
    "© 2024 Enhancv. All Rights Reserved.\n",
    "Resume ExamplesTermsPrivacyBlogHelp\n",
    "Language\n",
    "Built with love & passion\n",
    "\n",
    "\"\"\""
   ]
  },
  {
   "cell_type": "code",
   "execution_count": 39,
   "id": "61dec66d",
   "metadata": {
    "execution": {
     "iopub.execute_input": "2024-03-30T11:14:47.092201Z",
     "iopub.status.busy": "2024-03-30T11:14:47.091448Z",
     "iopub.status.idle": "2024-03-30T11:14:47.098374Z",
     "shell.execute_reply": "2024-03-30T11:14:47.097553Z"
    },
    "id": "7YZkjwyfMWLD",
    "papermill": {
     "duration": 0.027891,
     "end_time": "2024-03-30T11:14:47.100453",
     "exception": false,
     "start_time": "2024-03-30T11:14:47.072562",
     "status": "completed"
    },
    "tags": []
   },
   "outputs": [],
   "source": [
    "Sample_resume2 = \"\"\"\n",
    "Certainly! Here's a civil engineer resume example with random information:\n",
    "\n",
    "---\n",
    "\n",
    "**John Smith**\n",
    "123 Main Street\n",
    "Springfield, IL 62701\n",
    "john.smith@email.com\n",
    "(555) 123-4567\n",
    "\n",
    "---\n",
    "\n",
    "**Objective:**\n",
    "Detail-oriented Civil Engineer with 5 years of experience in structural design and project management seeking to leverage expertise in delivering high-quality engineering solutions for infrastructure projects. Proven track record of completing projects on time and within budget while maintaining safety standards.\n",
    "\n",
    "---\n",
    "\n",
    "**Education:**\n",
    "- Bachelor of Science in Civil Engineering\n",
    "  Springfield University, Springfield, IL\n",
    "  Graduated: May 2015\n",
    "\n",
    "---\n",
    "\n",
    "**Professional Experience:**\n",
    "\n",
    "**Civil Engineer**\n",
    "Johnson & Associates Engineering Firm, Springfield, IL\n",
    "July 2015 - Present\n",
    "- Managed a team of engineers and technicians in the design and construction of various civil engineering projects.\n",
    "- Conducted structural analysis and design for bridges, highways, and buildings using software such as AutoCAD, SAP2000, and ETABS.\n",
    "- Prepared detailed project plans, specifications, and cost estimates, ensuring compliance with industry standards and regulations.\n",
    "- Coordinated with clients, contractors, and government agencies to obtain permits and approvals for project implementation.\n",
    "- Conducted site visits to monitor construction progress, resolve issues, and ensure adherence to design specifications and safety standards.\n",
    "- Implemented quality control measures to ensure the integrity and durability of structures.\n",
    "\n",
    "**Assistant Civil Engineer**\n",
    "Springfield Civil Engineering Services, Springfield, IL\n",
    "May 2014 - June 2015\n",
    "- Assisted senior engineers in the design and analysis of structural components for residential and commercial projects.\n",
    "- Conducted site surveys and collected data for feasibility studies and project planning.\n",
    "- Prepared technical reports, drawings, and documentation for project proposals and presentations.\n",
    "- Collaborated with architects, contractors, and subcontractors to coordinate project activities and resolve design conflicts.\n",
    "- Participated in construction meetings and provided technical support to field personnel.\n",
    "\n",
    "---\n",
    "\n",
    "**Skills:**\n",
    "- Proficient in structural analysis and design software such as AutoCAD, SAP2000, ETABS, and Revit.\n",
    "- Strong knowledge of civil engineering principles, codes, and standards.\n",
    "- Excellent project management skills, including scheduling, budgeting, and resource allocation.\n",
    "- Effective communication skills, both verbal and written, with the ability to convey complex technical concepts to non-technical stakeholders.\n",
    "- Detail-oriented with a focus on quality and accuracy.\n",
    "\n",
    "---\n",
    "\n",
    "**Certifications:**\n",
    "- Professional Engineer (PE) license, Illinois, 2017\n",
    "\n",
    "---\n",
    "\n",
    "**References:**\n",
    "Available upon request.\n",
    "\n",
    "---\n",
    "\n",
    "Feel free to adjust any details or add more sections as needed!\n",
    "\"\"\""
   ]
  },
  {
   "cell_type": "code",
   "execution_count": 40,
   "id": "f09d4c81",
   "metadata": {
    "execution": {
     "iopub.execute_input": "2024-03-30T11:14:47.136855Z",
     "iopub.status.busy": "2024-03-30T11:14:47.136146Z",
     "iopub.status.idle": "2024-03-30T11:14:47.164025Z",
     "shell.execute_reply": "2024-03-30T11:14:47.162700Z"
    },
    "id": "a9Cb_VkIJtlh",
    "outputId": "4cc9e253-dcea-4dfe-befc-e553267fc6a6",
    "papermill": {
     "duration": 0.048362,
     "end_time": "2024-03-30T11:14:47.166140",
     "exception": false,
     "start_time": "2024-03-30T11:14:47.117778",
     "status": "completed"
    },
    "tags": []
   },
   "outputs": [
    {
     "name": "stdout",
     "output_type": "stream",
     "text": [
      "5\n",
      "Given Resume is for : Civil Engineer\n"
     ]
    }
   ],
   "source": [
    "import pickle\n",
    "\n",
    "\n",
    "clf = pickle.load(open('best_knn_classifier.pkl', 'rb'))\n",
    "\n",
    "#clean the Input Resume with Cleaned_resume Function\n",
    "# pass the sample resume\n",
    "cleaned_resume= clean_resume(Sample_resume2)\n",
    "\n",
    "#transformed the cleaned resume using the trained tfidvectorizer\n",
    "\n",
    "input_features = tfidf.transform([cleaned_resume])\n",
    "\n",
    "# make the predictions using the loaded classifier\n",
    "\n",
    "prediction_id = clf.predict(input_features)[0]\n",
    "\n",
    "\n",
    "print(prediction_id)\n",
    "filtered_df = df1[df1['Category_num'] == prediction_id]\n",
    "category_value = filtered_df['Category'].iloc[0]\n",
    "print(\"Given Resume is for :\", category_value)"
   ]
  },
  {
   "cell_type": "code",
   "execution_count": null,
   "id": "bb8cc390",
   "metadata": {
    "papermill": {
     "duration": 0.016984,
     "end_time": "2024-03-30T11:14:47.200163",
     "exception": false,
     "start_time": "2024-03-30T11:14:47.183179",
     "status": "completed"
    },
    "tags": []
   },
   "outputs": [],
   "source": []
  },
  {
   "cell_type": "code",
   "execution_count": null,
   "id": "f3016f3f",
   "metadata": {
    "papermill": {
     "duration": 0.016639,
     "end_time": "2024-03-30T11:14:47.233715",
     "exception": false,
     "start_time": "2024-03-30T11:14:47.217076",
     "status": "completed"
    },
    "tags": []
   },
   "outputs": [],
   "source": []
  }
 ],
 "metadata": {
  "colab": {
   "provenance": []
  },
  "kaggle": {
   "accelerator": "none",
   "dataSources": [
    {
     "datasetId": 1177531,
     "sourceId": 1971405,
     "sourceType": "datasetVersion"
    }
   ],
   "dockerImageVersionId": 30673,
   "isGpuEnabled": false,
   "isInternetEnabled": true,
   "language": "python",
   "sourceType": "notebook"
  },
  "kernelspec": {
   "display_name": "Python 3",
   "language": "python",
   "name": "python3"
  },
  "language_info": {
   "codemirror_mode": {
    "name": "ipython",
    "version": 3
   },
   "file_extension": ".py",
   "mimetype": "text/x-python",
   "name": "python",
   "nbconvert_exporter": "python",
   "pygments_lexer": "ipython3",
   "version": "3.10.13"
  },
  "papermill": {
   "default_parameters": {},
   "duration": 39.002189,
   "end_time": "2024-03-30T11:14:47.870616",
   "environment_variables": {},
   "exception": null,
   "input_path": "__notebook__.ipynb",
   "output_path": "__notebook__.ipynb",
   "parameters": {},
   "start_time": "2024-03-30T11:14:08.868427",
   "version": "2.5.0"
  }
 },
 "nbformat": 4,
 "nbformat_minor": 5
}
